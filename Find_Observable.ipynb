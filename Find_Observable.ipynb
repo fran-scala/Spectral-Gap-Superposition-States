{
 "cells": [
  {
   "cell_type": "code",
   "execution_count": null,
   "metadata": {},
   "outputs": [],
   "source": [
    "import pennylane as qml\n",
    "from pennylane import numpy as np\n",
    "import itertools"
   ]
  },
  {
   "cell_type": "markdown",
   "metadata": {},
   "source": [
    "# Create Hamiltonians"
   ]
  },
  {
   "cell_type": "code",
   "execution_count": null,
   "metadata": {},
   "outputs": [],
   "source": [
    "def create_H_Heisenberg(Jx, Jz, l):\n",
    "    '''\n",
    "    Jx(int): X - interaction term in Heisenberg model \n",
    "    Jz(int): Z - interaction term in Heisenberg model\n",
    "    l(int): Number of sites in Ising chain\n",
    "\n",
    "    Creates a pennylane Hamiltonian representation of an Heisenberg chain with periodic boundary conditions\n",
    "    '''\n",
    "    coefficient_set = []\n",
    "    gate_set = []\n",
    "\n",
    "    for i in range(l-1):\n",
    "        X_gate = 'I'*i + 'XX' + (l-i-2)*'I'\n",
    "        gate_set.append(X_gate)\n",
    "        coefficient_set.append(-Jx)\n",
    "\n",
    "        Z_gate = 'I'*i + 'ZZ' + (l-i-2)*'I'\n",
    "        gate_set.append(Z_gate)\n",
    "        coefficient_set.append(-Jz)\n",
    "\n",
    "    gate_set.append('Z' + 'I'*(l-2) + 'Z')\n",
    "    coefficient_set.append(-Jz)\n",
    "\n",
    "    gate_set.append('X' + 'I'*(l-2) + 'X')\n",
    "    coefficient_set.append(-Jx)\n",
    "        \n",
    "    obs = [qml.pauli.string_to_pauli_word(pstrs) for pstrs in gate_set]\n",
    "    ham = qml.Hamiltonian(coefficient_set, obs)\n",
    "    return ham\n",
    "\n",
    "def create_H_Ising(J, h, l):\n",
    "    '''\n",
    "    J(int): Interaction  term in Ising model \n",
    "    h(int): External magnetic fiels in Ising model\n",
    "    l(int): Number of sites in Ising chain\n",
    "\n",
    "    Creates a pennylane Hamiltonian representation of an Ising chain with periodic boundary conditions\n",
    "    '''\n",
    "    coefficient_set = []\n",
    "    gate_set = []\n",
    "\n",
    "    for i in range(l):\n",
    "        X_gate = 'I'*i + 'X' + (l-i-1)*'I'\n",
    "        gate_set.append(X_gate)\n",
    "        coefficient_set.append(-h)\n",
    "        if i<l-1:\n",
    "            Z_gate = 'I'*i + 'ZZ' + (l-i-2)*'I'\n",
    "            gate_set.append(Z_gate)\n",
    "            coefficient_set.append(-J)\n",
    "\n",
    "    gate_set.append('Z' + 'I'*(l-2) + 'Z')\n",
    "    coefficient_set.append(-J)\n",
    "        \n",
    "    obs = [qml.pauli.string_to_pauli_word(pstrs) for pstrs in gate_set]\n",
    "    ham = qml.Hamiltonian(coefficient_set, obs)\n",
    "    return ham"
   ]
  },
  {
   "cell_type": "markdown",
   "metadata": {},
   "source": [
    "# Find ground state and 1st excited state"
   ]
  },
  {
   "cell_type": "code",
   "execution_count": null,
   "metadata": {},
   "outputs": [],
   "source": [
    "def eig_sort (w, v):\n",
    "    '''\n",
    "    w(np.array(float)): A vector containing the eigenvalues of a matrix\n",
    "    v(np.array(np.array(float))): A vector containing the eigenvector of a matrix\n",
    "\n",
    "    Returns 2 lists containing the eigenvalues and eigenvectors sorted in ascending order of the eigenvalue\n",
    "    '''\n",
    "    W = []\n",
    "    V = []\n",
    "    ind = np.argsort(w)\n",
    "    for i in range(0, len(w)):\n",
    "        W.append(w[ind[i]])\n",
    "        V.append(v.T[ind[i]])\n",
    "    return np.array(W),np.array(V).T\n",
    "\n",
    "def ground_and_ext_states(params, l, model):\n",
    "    '''\n",
    "    Jx(int): X - interaction term in Heisenberg model \n",
    "    Jz(int): Z - interaction term in Heisenberg model\n",
    "    l(int): Numbe of sites in Ising chain\n",
    "\n",
    "    Find the ground state and the 1st excited state eigenvectors for an Hesienberg Hamiltonian\n",
    "    '''\n",
    "\n",
    "    if model == 'Ising':\n",
    "        J = params[0]\n",
    "        h = params[1]\n",
    "        ham = create_H_Ising(J, h, l)\n",
    "    elif model == 'Heisenberg':\n",
    "        Jx = params[0]\n",
    "        Jy = params[1]\n",
    "        ham = create_H_Heisenberg(Jx, Jy, l)\n",
    "    else:\n",
    "        assert 'Incorrect Hamiltonian model'\n",
    "\n",
    "    ham_matrix = qml.matrix(ham)\n",
    "    val,vec = np.linalg.eig(ham_matrix)\n",
    "    val,vec = eig_sort(val,vec)    \n",
    "\n",
    "    ground = vec.T[0]\n",
    "    ext = vec.T[1]\n",
    "    return ground, ext"
   ]
  },
  {
   "cell_type": "markdown",
   "metadata": {},
   "source": [
    "# Pauli strings functions"
   ]
  },
  {
   "cell_type": "code",
   "execution_count": null,
   "metadata": {},
   "outputs": [],
   "source": [
    "def pauli_strings(n):\n",
    "    '''\n",
    "    n(int): Number of qubits\n",
    "\n",
    "    Creates all possible combinations of pauli strings for n qubits\n",
    "    '''\n",
    "\n",
    "    paulis = ['I', 'X', 'Y', 'Z']\n",
    "    combinations = itertools.product(paulis, repeat=n)\n",
    "    return [''.join(comb) for comb in combinations]\n",
    "\n",
    "def convert_str_to_matrix(pstr):\n",
    "    '''\n",
    "    pstr(str): A Pauli string\n",
    "\n",
    "    Converts a Pauli string in a matrix\n",
    "    '''\n",
    "    for i,letter in enumerate(pstr):\n",
    "        if i==0:\n",
    "            if letter == 'I': \n",
    "                An = np.eye(2)\n",
    "            elif letter == 'X':\n",
    "                An = qml.PauliX.compute_matrix()\n",
    "            elif letter == 'Y':\n",
    "                An = qml.PauliY.compute_matrix()\n",
    "            elif letter == 'Z':\n",
    "                An = qml.PauliZ.compute_matrix()\n",
    "        else:\n",
    "            if letter == 'I': \n",
    "                An = np.kron(An, np.eye(2))\n",
    "            elif letter == 'X':\n",
    "                An = np.kron(An, qml.PauliX.compute_matrix())\n",
    "            elif letter == 'Y':\n",
    "                An = np.kron(An, qml.PauliY.compute_matrix())\n",
    "            elif letter == 'Z':\n",
    "                An = np.kron(An, qml.PauliZ.compute_matrix())\n",
    "    return An"
   ]
  },
  {
   "cell_type": "markdown",
   "metadata": {},
   "source": [
    "# Find Observables"
   ]
  },
  {
   "cell_type": "markdown",
   "metadata": {},
   "source": [
    "This section finds the observables with the highest energy gap for both Ising and Heisenberg models"
   ]
  },
  {
   "cell_type": "markdown",
   "metadata": {},
   "source": [
    "## Ising"
   ]
  },
  {
   "cell_type": "code",
   "execution_count": null,
   "metadata": {},
   "outputs": [],
   "source": [
    "J = 0.1\n",
    "h = 0.1\n",
    "\n",
    "for n_qubits in range(3,8):\n",
    "    print(f'N_QUBITS = {n_qubits}')\n",
    "    pauli_str = pauli_strings(n_qubits)\n",
    "    ground, ext = ground_and_ext_states([J, h], n_qubits, model='Ising')\n",
    "\n",
    "    vals = []\n",
    "    str_vals = []\n",
    "    couples = []\n",
    "    for pstr in pauli_str:\n",
    "        mtx = convert_str_to_matrix(pstr)\n",
    "        obs_01 = np.dot(np.conj(ground), np.dot(mtx, ext))\n",
    "        couples.append((abs(obs_01), pstr))\n",
    "    \n",
    "    max_values = sorted(couples, reverse=True, key=lambda x: x[0])\n",
    "    \n",
    "    for i in enumerate(max_values[:5*n_qubits]):\n",
    "        print(max_values[i[0]][1], max_values[i[0]][0])\n",
    "\n",
    "    print('----------------')"
   ]
  }
 ],
 "metadata": {
  "kernelspec": {
   "display_name": "Python 3",
   "language": "python",
   "name": "python3"
  },
  "language_info": {
   "codemirror_mode": {
    "name": "ipython",
    "version": 3
   },
   "file_extension": ".py",
   "mimetype": "text/x-python",
   "name": "python",
   "nbconvert_exporter": "python",
   "pygments_lexer": "ipython3",
   "version": "3.12.1"
  }
 },
 "nbformat": 4,
 "nbformat_minor": 2
}
