{
 "cells": [
  {
   "cell_type": "markdown",
   "metadata": {},
   "source": [
    "# Spectral Gap Superposition States via Adiabatic Thermalization"
   ]
  },
  {
   "cell_type": "markdown",
   "metadata": {},
   "source": [
    "The estimation of the spectral gap, \n",
    "defined as the energy difference between the ground state \n",
    "and the first excited state of a quantum system, \n",
    "is fundamental in both condensed matter physics\n",
    "and quantum chemistry.\n",
    "\n",
    "Unfortunately most of the Quantum Computing schemes\n",
    "remain out of reach since we are \n",
    "currently living \n",
    "in the so-called Noisy Intermediate-Scale Quantum (NISQ) era,\n",
    "in which actual devices are made \n",
    "of a limited number of noisy qubits.\n",
    "In notebook, \n",
    "we showcase how to apply a novel approach \n",
    "for estimating the spectral gap in quantum systems. \n",
    "We define the Spectral Gap Superposition(SGS) state as\n",
    "\n",
    "$$\n",
    "\\ket{SGS(0,1)} = \\frac{1}{\\sqrt{2}}\\left(\\ket{\\Omega_0}  + \\ket{\\Omega_1} \\right),\n",
    "$$\n",
    "\n",
    "where $\\ket{\\Omega_0}$ and $\\ket{\\Omega_1}$\n",
    "respectively are the groundstate and the first excited state\n",
    "of the system Hamiltonian $H$.\n",
    "\n",
    "The procedure can be schematized as follows: A Quantum Circuit prepares the Spectral Gap Superposition\n",
    "State (SGS) through Adiabatic Thermalization. Then, sequential measurements of the chosen observable $O(t)$ at different time\n",
    "steps are conducted, followed by a fitting procedure to determine the spectral gap. The obtained value is compared to the\n",
    "benchmark spectral gap.\n",
    "\n",
    "![scheme](images/scheme.png)"
   ]
  },
  {
   "cell_type": "code",
   "execution_count": 1,
   "metadata": {},
   "outputs": [],
   "source": [
    "import pennylane as qml\n",
    "# from pennylane \n",
    "import numpy as np\n",
    "import jax.numpy as jnp\n",
    "np.random.seed(1)"
   ]
  },
  {
   "cell_type": "markdown",
   "metadata": {},
   "source": [
    "## 2D Ising model"
   ]
  },
  {
   "cell_type": "markdown",
   "metadata": {},
   "source": [
    "To demonstrate the effectiveness of the approach we at first show that is possible to give an estimate of the spectral gap for the 2D Ising model with transverse field for a single field intensity. In the next section we will iterate the procedure to span all the regimes/phases."
   ]
  },
  {
   "cell_type": "markdown",
   "metadata": {},
   "source": [
    "The Hamiltonian under study has the following form:\n",
    "$$H = -\\frac{J_z}{2} \\sum_{\\langle i,j \\rangle} Z_i Z_j - \\frac{h}{2}\\sum_i X_i$$\n",
    "\n",
    "So let's define the useful variables."
   ]
  },
  {
   "cell_type": "code",
   "execution_count": 2,
   "metadata": {},
   "outputs": [],
   "source": [
    "edge_sites = 2\n",
    "n_qubits = edge_sites**2\n",
    "\n",
    "JZ = 1 # only Z coupling\n",
    "JX = 0\n",
    "JY = 0\n",
    "\n",
    "hX = 3.1 # transverse field"
   ]
  },
  {
   "cell_type": "markdown",
   "metadata": {},
   "source": [
    "Now we will define the hamiltonian with `pennylane` and the we will diagonalize it to obtain a numerical estimate of the spectral gap."
   ]
  },
  {
   "cell_type": "code",
   "execution_count": 3,
   "metadata": {},
   "outputs": [],
   "source": [
    "def eig_sort (w, v):\n",
    "    '''Function sorting eigenvalues\n",
    "    '''\n",
    "    W = []\n",
    "    V = []\n",
    "    ind = np.argsort(w)\n",
    "    for i in range(0, len(w)):\n",
    "        W.append(w[ind[i]])\n",
    "        V.append(v.T[ind[i]])\n",
    "    return np.array(W),np.array(V).T\n",
    "\n",
    "def tfim_spectral_states(n_qubits, hX):\n",
    "    \"\"\"Calculates the spectrum of the 1D TFIM Hamiltonian. And return grounds and excited states.\n",
    "\n",
    "    Args:\n",
    "        num_qubits (int): The number of qubits / spins.\n",
    "        h (float): The transverse field strength.\n",
    "\n",
    "    Returns:\n",
    "        (tuple): grounds, exciteds states, eigenvalues\n",
    "    \"\"\"\n",
    "    #defining the hamiltonian\n",
    "    coeffs =[]\n",
    "    obs = []\n",
    "    for r in range(edge_sites): #sum over rows \n",
    "        for c in range(edge_sites):    #sum over columns\n",
    "            coeffs.append(-1/2)\n",
    "            obs.append(qml.PauliZ(edge_sites*r+c)@qml.PauliZ(edge_sites*((r)%edge_sites)+((c+1))%edge_sites))\n",
    "            coeffs.append(-1/2)\n",
    "            obs.append(qml.PauliZ(edge_sites*r+c)@qml.PauliZ(edge_sites*((r+1)%edge_sites)+((c))%edge_sites))\n",
    "            coeffs.append(-hX/2)\n",
    "            obs.append(qml.PauliX(edge_sites*r+c))\n",
    "    \n",
    "    H = qml.matrix(qml.Hamiltonian(coeffs,obs))\n",
    "    \n",
    "    val,vec = np.linalg.eig(H)\n",
    "    val,vec = eig_sort(val,vec)    \n",
    "\n",
    "    # finding all possible degenerates ground states\n",
    "    ground_idxs = np.where(np.isclose(val,val[0], atol=1e-1))\n",
    "    grounds = vec.T[ground_idxs]\n",
    "    \n",
    "    # finding all possible degenerates first excited states\n",
    "    exc_idxs = np.where(np.isclose(val,val[np.max(ground_idxs)+1], atol=1e-1))\n",
    "    \n",
    "    \n",
    "    excs = vec.T[exc_idxs]\n",
    "    \n",
    "\n",
    "    return grounds, excs, val # return the ground state of the 1D TFIM Hamiltonian\n"
   ]
  },
  {
   "cell_type": "code",
   "execution_count": 4,
   "metadata": {},
   "outputs": [
    {
     "name": "stdout",
     "output_type": "stream",
     "text": [
      "[-6.9309785 +0.j -5.68917335+0.j -3.1       +0.j] 1.2418051502930645\n"
     ]
    }
   ],
   "source": [
    "grounds,excs, eigenvals = tfim_spectral_states(n_qubits, hX)\n",
    "#grounds,excs, val[:2],\n",
    "spectral_gap = (eigenvals[1]-eigenvals[0]).real\n",
    "print(eigenvals[:3], (eigenvals[1]-eigenvals[0]).real)"
   ]
  },
  {
   "cell_type": "markdown",
   "metadata": {},
   "source": [
    "Then we define the variables for the thermalization and time evolution steps."
   ]
  },
  {
   "cell_type": "code",
   "execution_count": 5,
   "metadata": {},
   "outputs": [],
   "source": [
    "#THERMALIZATION VARIABLES\n",
    "delta_tau = 0.3\n",
    "tau_steps = 15#thermalization steps\n",
    "\n",
    "#TIME EVOLUTION VARIABLES\n",
    "t_steps = 25 # time evolution steps\n",
    "delta_t = 0.3\n"
   ]
  },
  {
   "cell_type": "markdown",
   "metadata": {},
   "source": [
    "We define Trotterization for the given Hamiltonian: "
   ]
  },
  {
   "cell_type": "code",
   "execution_count": 6,
   "metadata": {},
   "outputs": [],
   "source": [
    "device = qml.device(\"lightning.qubit\", wires=n_qubits, shots=8192)#default.qubit.jax\n",
    "\n",
    "\n",
    "## this function is general, \n",
    "## can be used also for different hamiltonians than Ising\n",
    "## here we use general gates\n",
    "def trotter_step(s,hX, JX=0, JY=0, JZ=0, delta_t = 0.3):\n",
    "    '''Trotter step function\n",
    "    Params:\n",
    "    s (float): performs  time evolution with tunable parameters: s*JX, s*JY, s*hX\n",
    "    '''\n",
    "    #X_nX_n+1\n",
    "    if JX != 0:\n",
    "        for i in range(0,n_qubits):\n",
    "            qml.RY(-jnp.pi/2,wires=i)\n",
    "        for r in range(edge_sites): #sum over rows \n",
    "            for c in range(edge_sites):    #sum over columns\n",
    "                qml.CNOT(wires=[edge_sites*r+c,edge_sites*r+(c+1)%edge_sites ])\n",
    "                qml.RZ(-s*JX*delta_t,edge_sites*r+(c+1)%edge_sites)\n",
    "                qml.CNOT(wires=[edge_sites*r+c,edge_sites*r+(c+1)%edge_sites])\n",
    "\n",
    "                qml.CNOT(wires=[edge_sites*r+c,edge_sites*((r+1)%edge_sites)+c])\n",
    "                qml.RZ(-s*JX*delta_t,edge_sites*((r+1)%edge_sites)+c)\n",
    "                qml.CNOT(wires=[edge_sites*r+c,edge_sites*((r+1)%edge_sites)+c])\n",
    "        for i in range(0,n_qubits):\n",
    "            qml.RY(-jnp.pi/2,wires=i)\n",
    "\n",
    "        qml.Barrier(wires=range(n_qubits), only_visual=True)\n",
    "\n",
    "    #Y_nY_n+1\n",
    "    if JY != 0:\n",
    "        for i in range(0,n_qubits):\n",
    "            qml.RX(jnp.pi/2,wires=i)\n",
    "        for r in range(edge_sites): #sum over rows \n",
    "            for c in range(edge_sites):    #sum over columns\n",
    "                qml.CNOT(wires=[edge_sites*r+c,edge_sites*r+(c+1)%edge_sites ])\n",
    "                qml.RZ(-s*JY*delta_t,edge_sites*r+(c+1)%edge_sites)\n",
    "                qml.CNOT(wires=[edge_sites*r+c,edge_sites*r+(c+1)%edge_sites])\n",
    "\n",
    "                qml.CNOT(wires=[edge_sites*r+c,edge_sites*((r+1)%edge_sites)+c])\n",
    "                qml.RZ(-s*JY*delta_t,edge_sites*((r+1)%edge_sites)+c)\n",
    "                qml.CNOT(wires=[edge_sites*r+c,edge_sites*((r+1)%edge_sites)+c])\n",
    "        for i in range(n_qubits):\n",
    "            qml.RX(-jnp.pi/2,wires=i)\n",
    "\n",
    "\n",
    "        qml.Barrier(wires=range(n_qubits), only_visual=True)\n",
    "\n",
    "    #Z_nZ_n+1\n",
    "    if JZ != 0:\n",
    "        for r in range(edge_sites): #sum over rows \n",
    "            for c in range(edge_sites):    #sum over columns\n",
    "                qml.CNOT(wires=[edge_sites*r+c,edge_sites*r+(c+1)%edge_sites ])\n",
    "                qml.RZ(-JZ*delta_t,edge_sites*r+(c+1)%edge_sites)\n",
    "                qml.CNOT(wires=[edge_sites*r+c,edge_sites*r+(c+1)%edge_sites])\n",
    "        for r in range(edge_sites): #sum over rows \n",
    "            for c in range(edge_sites):    #sum over columns\n",
    "                qml.CNOT(wires=[edge_sites*r+c,edge_sites*((r+1)%edge_sites)+c])\n",
    "                qml.RZ(-JZ*delta_t,edge_sites*((r+1)%edge_sites)+c)\n",
    "                qml.CNOT(wires=[edge_sites*r+c,edge_sites*((r+1)%edge_sites)+c])\n",
    "\n",
    "\n",
    "    #X term\n",
    "    if hX !=0 :\n",
    "        for i in range(0,n_qubits):\n",
    "            qml.RX(-s*delta_t*hX,wires=i)\n",
    "        qml.Barrier(wires=range(n_qubits), only_visual=True)\n",
    "\n",
    "\n",
    "def SGS_circ(hX, JX=0, JY=0, JZ=0,tau_steps=10, delta_tau = 0.3):\n",
    "    '''Circuit responsible for the preparation of the SGS state via Adiabatic Thermalization\n",
    "    '''\n",
    "    thermalization_steps = np.linspace(0, 1, tau_steps+2)[1:-1]#first and last does not affect\n",
    "    #state preparation\n",
    "    #########\n",
    "    # |000...> is already a good starting point for thermalization \n",
    "\n",
    "    for s in thermalization_steps:\n",
    "        trotter_step(s,hX,JX,JY,JZ,delta_tau)\n",
    "\n",
    "\n",
    "    \n",
    "@qml.qnode(device)\n",
    "def SGS_state(hX, JX=0, JY=0, JZ=0,tau_steps=10, delta_tau = 0.3):\n",
    "    '''Circuit returning the SGS state obtained via Adiabatic Thermalization\n",
    "    '''\n",
    "    SGS_circ(hX, JX, JY, JZ,tau_steps, delta_tau)\n",
    "\n",
    "    return qml.state()\n",
    "\n"
   ]
  },
  {
   "cell_type": "code",
   "execution_count": 7,
   "metadata": {},
   "outputs": [
    {
     "data": {
      "text/plain": [
       "(<Figure size 2300x500 with 1 Axes>, <Axes: >)"
      ]
     },
     "execution_count": 7,
     "metadata": {},
     "output_type": "execute_result"
    },
    {
     "data": {
      "image/png": "[encoded data removed]",
      "text/plain": [
       "<Figure size 2300x500 with 1 Axes>"
      ]
     },
     "metadata": {},
     "output_type": "display_data"
    }
   ],
   "source": [
    "qml.draw_mpl(SGS_circ, decimals=2)(hX, JX=0, JY=0, JZ=1,tau_steps=1)"
   ]
  },
  {
   "cell_type": "markdown",
   "metadata": {},
   "source": [
    "Here we check that the SGS state is approximately an equal superposition of the ground and theexcited state"
   ]
  },
  {
   "cell_type": "code",
   "execution_count": 8,
   "metadata": {},
   "outputs": [],
   "source": [
    "def fidelity(a,b):\n",
    "    return abs(np.vdot(np.array(a, dtype = 'complex128'),np.array(b, dtype = 'complex128')))**2               \n",
    "def overlap(a,b):\n",
    "    return np.vdot(np.array(a, dtype = 'complex128'),np.array(b, dtype = 'complex128'))#abs()**2"
   ]
  },
  {
   "cell_type": "code",
   "execution_count": 9,
   "metadata": {},
   "outputs": [
    {
     "name": "stdout",
     "output_type": "stream",
     "text": [
      "0.427,0.457\n"
     ]
    },
    {
     "name": "stderr",
     "output_type": "stream",
     "text": [
      "/home/francesco/anaconda3/envs/qhack/lib/python3.12/site-packages/pennylane/_qubit_device.py:653: UserWarning: Requested state or density matrix with finite shots; the returned state information is analytic and is unaffected by sampling. To silence this warning, set shots=None on the device.\n",
      "  warnings.warn(\n"
     ]
    }
   ],
   "source": [
    "statevec = SGS_state(hX, JX, JY, JZ,tau_steps=tau_steps, delta_tau=delta_tau)\n",
    "\n",
    "\n",
    "print('{:.3f},{:.3f}'.format(fidelity(grounds[0], statevec), fidelity(excs[0], statevec)))"
   ]
  },
  {
   "cell_type": "markdown",
   "metadata": {},
   "source": [
    "To have better fitting we will employ Chebyshev timesteps in the time evolution process"
   ]
  },
  {
   "cell_type": "code",
   "execution_count": 10,
   "metadata": {},
   "outputs": [],
   "source": [
    "def chebyshev_time(t_steps, delta_t):\n",
    "    '''Using Chebyshev nodes as time to have better fit'''\n",
    "\n",
    "    n_nodes = []\n",
    "    \n",
    "    for t in range(t_steps):\n",
    "        n_nodes.append(t_steps*delta_t*(0.5*np.cos(np.pi*(t_steps-1-t)/(t_steps-1))+0.5))\n",
    "\n",
    "    return n_nodes"
   ]
  },
  {
   "cell_type": "code",
   "execution_count": 11,
   "metadata": {},
   "outputs": [],
   "source": [
    "#### Equally spaced time steps\n",
    "### alternative\n",
    "\n",
    "\n",
    "# def time_evolution(hX, JX=0, JY=0, JZ=0,t_steps=10, delta_t = 0.3):\n",
    "    \n",
    "#     for t in range(t_steps):\n",
    "#         trotter_step(1,hX,JX,JY,JZ, delta_t)\n",
    "\n",
    "\n",
    "\n",
    "# device = qml.device(\"lightning.qubit\", wires=n_qubits, shots=8192)\n",
    "\n",
    "# @qml.qnode(device)\n",
    "# def evol_SGS_expval(hX, JX=0, JY=0, JZ=0,tau_steps=10,t_steps=10, delta_tau = 0.3,delta_t = 0.3, O=qml.PauliZ(0)):\n",
    "    \n",
    "#     SGS_circ(hX, JX, JY, JZ,tau_steps, delta_tau)\n",
    "    \n",
    "#     time_evolution(hX, JX, JY, JZ,t_steps, delta_t)\n",
    "\n",
    "#     return qml.expval(O)\n",
    "\n",
    "# @qml.qnode(device,)\n",
    "# def evol_SGS_state(hX, JX=0, JY=0, JZ=0,tau_steps=10,t_steps=10, delta_tau = 0.3,delta_t = 0.3,):\n",
    "    \n",
    "#     SGS_circ(hX, JX, JY, JZ,tau_steps, delta_tau)\n",
    "    \n",
    "#     time_evolution(hX, JX, JY, JZ,t_steps, delta_t)\n",
    "\n",
    "#     return qml.state()\n",
    "\n"
   ]
  },
  {
   "cell_type": "code",
   "execution_count": 12,
   "metadata": {},
   "outputs": [],
   "source": [
    "#### CHEBYSHEV TIMESTEPS\n",
    "def time_evolution(hX, JX=0, JY=0, JZ=0,t_steps=10, step=0, delta_t = 0.3):\n",
    "    times = chebyshev_time(t_steps, delta_t)\n",
    "\n",
    "    for i,t in enumerate(times[:step]):#range(t_steps):\n",
    "        if i==0:\n",
    "            dt=t\n",
    "        else:\n",
    "            dt = t - times[i-1]\n",
    "        trotter_step(1,hX,JX,JY,JZ, dt)\n",
    "\n",
    "\n",
    "\n",
    "device = qml.device(\"lightning.qubit\", wires=n_qubits, shots=8192,)\n",
    "\n",
    "@qml.qnode(device)\n",
    "def evol_SGS_expval(hX, JX=0, JY=0, JZ=0,tau_steps=10,t_steps=10, step=0, delta_tau = 0.3,delta_t = 0.3, O=qml.PauliZ(0)):\n",
    "    '''Circuit returning the expectation value of time evoluted Z_0 on the SGS state obtained via Adiabatic Thermalization\n",
    "    '''\n",
    "    SGS_circ(hX, JX, JY, JZ,tau_steps, delta_tau)\n",
    "    \n",
    "    time_evolution(hX, JX, JY, JZ,t_steps,step, delta_t)\n",
    "\n",
    "    return qml.counts(op = O, )#qml.expval(O)\n",
    "\n",
    "@qml.qnode(device,interface='jax')\n",
    "def evol_SGS_state(hX, JX=0, JY=0, JZ=0,tau_steps=10,t_steps=10, step=0, delta_tau = 0.3,delta_t = 0.3,):\n",
    "    '''Circuit returning the SGS state obtained via Adiabatic Thermalization and then time evoluted\n",
    "    '''\n",
    "    SGS_circ(hX, JX, JY, JZ,tau_steps, delta_tau, )\n",
    "    \n",
    "    time_evolution(hX, JX, JY, JZ,t_steps, step, delta_t)\n",
    "\n",
    "    return qml.state()\n",
    "\n"
   ]
  },
  {
   "cell_type": "markdown",
   "metadata": {},
   "source": [
    "Again we check that the SGS state is approximately an equal superposition of the ground and the excited state during the time evolution"
   ]
  },
  {
   "cell_type": "code",
   "execution_count": 13,
   "metadata": {},
   "outputs": [
    {
     "name": "stdout",
     "output_type": "stream",
     "text": [
      "0 0.427,0.457\n",
      "1 0.427,0.457\n",
      "2 0.428,0.457\n",
      "3 0.436,0.467\n",
      "4 0.461,0.494\n",
      "5 0.464,0.471\n",
      "6 0.459,0.369\n",
      "7 0.372,0.453\n",
      "8 0.281,0.424\n",
      "9 0.340,0.332\n",
      "10 0.457,0.458\n",
      "11 0.257,0.271\n",
      "12 0.223,0.459\n",
      "13 0.411,0.252\n",
      "14 0.326,0.462\n",
      "15 0.216,0.262\n",
      "16 0.357,0.477\n",
      "17 0.409,0.299\n",
      "18 0.367,0.475\n",
      "19 0.320,0.398\n",
      "20 0.390,0.400\n",
      "21 0.457,0.498\n",
      "22 0.496,0.466\n",
      "23 0.475,0.440\n",
      "24 0.464,0.441\n"
     ]
    }
   ],
   "source": [
    "for t in range(t_steps):\n",
    "    statevec = evol_SGS_state(hX, JX, JY, JZ,tau_steps=tau_steps,t_steps=t_steps,step=t,delta_t=delta_t,delta_tau=delta_tau)\n",
    "    print(t, '{:.3f},{:.3f}'.format(fidelity(grounds[0], statevec), fidelity(excs[0], statevec)))"
   ]
  },
  {
   "cell_type": "markdown",
   "metadata": {},
   "source": [
    "And now we are ready to compute the expectation value at different time steps:"
   ]
  },
  {
   "cell_type": "code",
   "execution_count": 14,
   "metadata": {},
   "outputs": [
    {
     "name": "stdout",
     "output_type": "stream",
     "text": [
      "0 0.139, 0.011\n"
     ]
    },
    {
     "name": "stdout",
     "output_type": "stream",
     "text": [
      "5 -0.387, 0.010\n",
      "10 -0.301, 0.011\n",
      "15 0.549, 0.009\n",
      "20 -0.478, 0.010\n"
     ]
    }
   ],
   "source": [
    "vals = []\n",
    "errors = []\n",
    "for t in range(t_steps):\n",
    "    expval=0\n",
    "    counts = evol_SGS_expval(hX, JX, JY, JZ,tau_steps=tau_steps,t_steps=t_steps,step=t,delta_t=delta_t,delta_tau=delta_tau)\n",
    "    shots = counts[1]+counts[-1]\n",
    "    p_0 = counts[1]/shots\n",
    "    p_1 = counts[-1]/shots\n",
    "    expval = (p_1*(-1)+ p_0)\n",
    "    err = np.sqrt(4*p_0*p_1/(shots-1))# /\n",
    "    errors.append(err)\n",
    "    vals.append(expval)\n",
    "    if t%5==0:\n",
    "        print(t, f'{expval:.3f}, {err:.3f}')"
   ]
  },
  {
   "cell_type": "markdown",
   "metadata": {},
   "source": [
    "In the end we fit the points with a `cosine` function. The spectral gap will be given by\n",
    "$$\\Delta E = \\frac{2\\pi}{T}$$\n",
    "where $T$ is the period of the oscillating function."
   ]
  },
  {
   "cell_type": "code",
   "execution_count": 15,
   "metadata": {},
   "outputs": [
    {
     "name": "stdout",
     "output_type": "stream",
     "text": [
      "Numerical: 1.24181\n",
      "Estimated: 1.07213+/-0.018712\n",
      "Reltive error: 0.13663586161719476\n"
     ]
    },
    {
     "data": {
      "image/png": "[encoded data removed]",
      "text/plain": [
       "<Figure size 640x480 with 1 Axes>"
      ]
     },
     "metadata": {},
     "output_type": "display_data"
    }
   ],
   "source": [
    "import matplotlib.pyplot as plt\n",
    "import seaborn as sns\n",
    "sns.set_theme()\n",
    "from scipy.optimize import curve_fit\n",
    "#FITTING PROCESS\n",
    "\n",
    "def prefitting_function (x,a,b,c,d):\n",
    "    f = a + b*np.cos(c*x + d)\n",
    "    return f\n",
    "\n",
    "x_axis =np.array(chebyshev_time(t_steps, delta_t))##np.linspace(0, t_steps*delta_t, t_steps)# \n",
    "\n",
    "omega = 0.2#2*np.pi/14.5\n",
    "\n",
    "p, pcov = curve_fit(prefitting_function, x_axis , vals, sigma= np.array(errors),\n",
    "                    p0 = [ 0., .4, omega, 0],)\n",
    "                    \n",
    "\n",
    "plot_x_axis = np.linspace(0, t_steps*delta_t, 1000)\n",
    "plt.errorbar(x_axis,vals, yerr=errors, fmt='o', label='Measured')\n",
    "plt.plot(plot_x_axis, prefitting_function(plot_x_axis, p[0], p[1], p[2], p[3]),linestyle='dashed', label='Fit', color='r')\n",
    "\n",
    "plt.title(rf'$h_X/J_Z={hX:.3f}$')\n",
    "plt.xlabel(\"time\")\n",
    "plt.ylabel(r\"$Z_0(t)$\")\n",
    "props = dict(boxstyle='round', facecolor='wheat', alpha=0.5)\n",
    "\n",
    "\n",
    "\n",
    "print(f'Numerical: {spectral_gap:.5f}')\n",
    "estim_gap = np.abs(p[2])\n",
    "print(f'Estimated: {estim_gap:.5f}+/-{np.sqrt(pcov[2][2]):.5g}')\n",
    "relativ_err = np.abs(spectral_gap-p[2])/spectral_gap\n",
    "print(f'Reltive error: {relativ_err}')\n",
    "plt.text(1.3,0.3, f'Spectral Gap\\nNum: {spectral_gap:.3f}\\nEstim: {estim_gap:.3f}+/-{pcov[2][2]:.3g}', \n",
    "         fontsize='medium', bbox=props, horizontalalignment='center')#, zorder=z)\n",
    "# plt.grid()\n",
    "plt.legend()\n",
    "plt.show()"
   ]
  },
  {
   "cell_type": "markdown",
   "metadata": {},
   "source": [
    "## Ising model scanning"
   ]
  },
  {
   "cell_type": "markdown",
   "metadata": {},
   "source": [
    "In this section we scan all the Ising model regimes allowed by employ 40 Trotter steps and show that we can estimate the spectral gap."
   ]
  },
  {
   "cell_type": "code",
   "execution_count": 16,
   "metadata": {},
   "outputs": [],
   "source": [
    "n_qubits = 4\n",
    "\n",
    "tau_steps = 15 # thermaliztion steps\n",
    "t_steps = 25 # time evolution steps\n",
    "\n",
    "JZ = 1\n",
    "JX = 0\n",
    "JY = 0"
   ]
  },
  {
   "cell_type": "code",
   "execution_count": 32,
   "metadata": {},
   "outputs": [
    {
     "name": "stdout",
     "output_type": "stream",
     "text": [
      "\n",
      "---hX=2.500---\n",
      "Numerical: 0.74325\n",
      "Estimated: 0.37764+/-0.18081\n",
      "Reltive error: 0.49190353183787683\n",
      "\n",
      "---hX=2.821---\n",
      "Numerical: 1.00216\n",
      "Estimated: 0.91486+/-0.019951\n",
      "Reltive error: 0.0871192234143137\n",
      "\n",
      "---hX=3.143---\n",
      "Numerical: 1.27964\n",
      "Estimated: 1.27999+/-0.031999\n",
      "Reltive error: 0.0002749757930892741\n",
      "\n",
      "---hX=3.464---\n",
      "Numerical: 1.56973\n",
      "Estimated: 1.48738+/-0.045528\n",
      "Reltive error: 0.05246196992705797\n",
      "\n",
      "---hX=3.786---\n",
      "Numerical: 1.86842\n",
      "Estimated: 1.84716+/-0.056358\n",
      "Reltive error: 0.011381854101534503\n",
      "\n",
      "---hX=4.107---\n",
      "Numerical: 2.17306\n",
      "Estimated: 2.11220+/-0.075288\n",
      "Reltive error: 0.02801012276292718\n",
      "\n",
      "---hX=4.429---\n",
      "Numerical: 2.48187\n",
      "Estimated: 2.45670+/-0.059877\n",
      "Reltive error: 0.010144835400412824\n",
      "\n",
      "---hX=4.750---\n",
      "Numerical: 2.79366\n",
      "Estimated: 3.00265+/-0.10977\n",
      "Reltive error: 0.07480690933337349\n",
      "\n",
      "---hX=5.071---\n",
      "Numerical: 3.10761\n",
      "Estimated: 3.09666+/-0.20209\n",
      "Reltive error: 0.003525130454247043\n",
      "\n",
      "---hX=5.393---\n",
      "Numerical: 3.42316\n",
      "Estimated: 3.36307+/-0.13734\n",
      "Reltive error: 0.01755467468278465\n",
      "\n",
      "---hX=5.714---\n",
      "Numerical: 3.73991\n",
      "Estimated: 3.61333+/-0.12913\n",
      "Reltive error: 0.033844363857588565\n",
      "\n",
      "---hX=6.036---\n",
      "Numerical: 4.05756\n",
      "Estimated: 4.07670+/-0.18613\n",
      "Reltive error: 0.004717138589297704\n",
      "\n",
      "---hX=6.357---\n",
      "Numerical: 4.37592\n",
      "Estimated: 4.52820+/-0.26001\n",
      "Reltive error: 0.034800093667943746\n",
      "\n",
      "---hX=6.679---\n",
      "Numerical: 4.69482\n",
      "Estimated: 5.54952+/-0.28792\n",
      "Reltive error: 0.18205094523377136\n",
      "\n",
      "---hX=7.000---\n",
      "Numerical: 5.01415\n",
      "Estimated: 5.94397+/-0.3125\n",
      "Reltive error: 0.1854372566064419\n"
     ]
    }
   ],
   "source": [
    "## DISCLAIMER: this automatic procedure may fail in performing the fitting\n",
    "##              one should redo a separate fit in order to obtain a good estimate of the spectral gap\n",
    "\n",
    "numerical_gaps = []\n",
    "esitmated_gaps = []\n",
    "fit_errors = []\n",
    "\n",
    "\n",
    "hX_s = np.linspace(2.5,7,15)\n",
    "\n",
    "for k,hX in enumerate(hX_s):\n",
    "    \n",
    "    print(f'\\n---hX={hX:.3f}---')\n",
    "    # different regimes needs different time steps\n",
    "    # the period is inverse proportial to the spectral gap\n",
    "    # thermalization step adjusting\n",
    "    if hX >= 4.:\n",
    "        delta_tau = 0.5\n",
    "    elif 2.6 < hX < 4.:\n",
    "        delta_tau = 0.4\n",
    "    else: \n",
    "        delta_tau = 0.3\n",
    "\n",
    "    ## time ev step adjusting\n",
    "    ## fitting parameter adjusting\n",
    "    if 2.5<=hX<3.:\n",
    "        delta_t = 0.3\n",
    "        omega = 1.\n",
    "    elif 3.<=hX<3.5:\n",
    "        delta_t = 0.2\n",
    "        omega = 1\n",
    "    elif 3.5<=hX<4.4:\n",
    "        delta_t = 0.2\n",
    "        omega = 2\n",
    "    elif 4.4<=hX<5:\n",
    "        delta_t = 0.2\n",
    "        omega = 2.5\n",
    "    elif 5<=hX<5.5:\n",
    "        delta_t = 0.2\n",
    "        omega = 3\n",
    "    elif 5.5<=hX<6.5:\n",
    "        delta_t = 0.2\n",
    "        omega = 4\n",
    "    elif hX>6.5:\n",
    "        delta_t = 0.2\n",
    "        omega = 5.3\n",
    "\n",
    "    #numerical gap\n",
    "    grounds,excs, eigenvals = tfim_spectral_states(n_qubits, hX)\n",
    "    spectral_gap = (eigenvals[1]-eigenvals[0]).real\n",
    "    numerical_gaps.append(spectral_gap)\n",
    "\n",
    "    # our estimate of the gap\n",
    "    vals = []\n",
    "    errors = []\n",
    "    for t in range(t_steps):\n",
    "        expval=0\n",
    "        counts = evol_SGS_expval(hX, JX, JY, JZ,tau_steps=tau_steps,t_steps=t_steps,step=t,delta_t=delta_t,delta_tau=delta_tau)\n",
    "        shots = counts[1]+counts[-1]\n",
    "        p_0 = counts[1]/shots\n",
    "        p_1 = counts[-1]/shots\n",
    "        expval = (p_1*(-1)+ p_0)\n",
    "        err = np.sqrt(4*p_0*p_1/(shots-1))# /\n",
    "        errors.append(err)\n",
    "        vals.append(expval)\n",
    "\n",
    "    ## fitting \n",
    "    x_axis = np.array(chebyshev_time(t_steps, delta_t))\n",
    "    p0 = [ 0., 0.4, omega , 0] # initial fitting parameters\n",
    "    # plt.errorbar(x_axis,vals, yerr=errors, fmt='o', label='Measured')\n",
    "    p, pcov = curve_fit(prefitting_function, x_axis , vals, p0 = p0,sigma=errors)\n",
    "   \n",
    "        \n",
    "    estim_gap = np.abs(p[2])\n",
    "    esitmated_gaps.append(estim_gap)\n",
    "    print(f'Numerical: {spectral_gap:.5f}')\n",
    "    fit_err = np.sqrt(pcov[2][2])\n",
    "    fit_errors.append(fit_err)\n",
    "    print(f'Estimated: {estim_gap:.5f}+/-{fit_err:.5g}')\n",
    "    relativ_err = np.abs(spectral_gap-estim_gap)/spectral_gap\n",
    "    # if relativ_err>0.1:\n",
    "    #     break\n",
    "    print(f'Reltive error: {relativ_err}')\n",
    "    "
   ]
  },
  {
   "cell_type": "code",
   "execution_count": 36,
   "metadata": {},
   "outputs": [],
   "source": [
    "full_range_gap = []\n",
    "for hX in  np.linspace(0,8,100):\n",
    "    grounds,excs, eigenvals = tfim_spectral_states(n_qubits, hX)\n",
    "    spectral_gap = (eigenvals[1]-eigenvals[0]).real\n",
    "    full_range_gap.append(spectral_gap)"
   ]
  },
  {
   "cell_type": "code",
   "execution_count": 42,
   "metadata": {},
   "outputs": [
    {
     "name": "stderr",
     "output_type": "stream",
     "text": [
      "/tmp/ipykernel_243262/945356955.py:4: UserWarning: marker is redundantly defined by the 'marker' keyword argument and the fmt string \"o\" (-> marker='o'). The keyword argument will take precedence.\n",
      "  plt.errorbar(hX_s, esitmated_gaps,yerr=fit_errors, label='Noiseless',\n"
     ]
    },
    {
     "data": {
      "image/png": "[encoded data removed]",
      "text/plain": [
       "<Figure size 640x480 with 1 Axes>"
      ]
     },
     "metadata": {},
     "output_type": "display_data"
    }
   ],
   "source": [
    "fig, ax = plt.subplots()\n",
    "cmap = sns.color_palette(\"viridis\")\n",
    "plt.plot(np.linspace(0,8,100), full_range_gap, label='Benchmark', c=cmap[0])\n",
    "plt.errorbar(hX_s, esitmated_gaps,yerr=fit_errors, label='Noiseless', \n",
    "             fmt='o', marker='X', markersize=12,c=cmap[1])\n",
    "\n",
    "plt.xlabel(r'$\\dfrac{h_3}{J_1}$')\n",
    "plt.ylabel(r'$\\dfrac{\\Delta E_{10}}{J_1}$')\n",
    "# plt.xscale('log')\n",
    "# plt.yscale('log')\n",
    "ax.fill_betweenx([-1.,7.1], [0,], [2.3], alpha=0.2, color='r')\n",
    "ax.fill_betweenx([-1.,7.1], [6.6], [7.5], alpha=0.2, color='r')\n",
    "plt.text(1.1,1.5, f'Infrared\\nlimit', fontsize='medium',  horizontalalignment='center')\n",
    "plt.text(6.9,1.5, f'Adiabatic\\nlimit', fontsize='medium',  horizontalalignment='center')\n",
    "ax.set_ylim([-0.1, 7])\n",
    "ax.set_xlim([0,7.5])\n",
    "plt.legend(loc='upper left')\n",
    "plt.tight_layout()\n",
    "plt.savefig(f'./images/Ising_2D_spectralgap_running_{n_qubits}.pdf')\n",
    "plt.show()"
   ]
  },
  {
   "cell_type": "code",
   "execution_count": null,
   "metadata": {},
   "outputs": [],
   "source": []
  }
 ],
 "metadata": {
  "kernelspec": {
   "display_name": "qhack",
   "language": "python",
   "name": "python3"
  },
  "language_info": {
   "codemirror_mode": {
    "name": "ipython",
    "version": 3
   },
   "file_extension": ".py",
   "mimetype": "text/x-python",
   "name": "python",
   "nbconvert_exporter": "python",
   "pygments_lexer": "ipython3",
   "version": "3.12.1"
  }
 },
 "nbformat": 4,
 "nbformat_minor": 2
}
